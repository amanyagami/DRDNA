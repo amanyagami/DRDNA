{
 "cells": [
  {
   "cell_type": "code",
   "execution_count": null,
   "metadata": {},
   "outputs": [],
   "source": [
    "import pickle\n",
    "\n",
    "with open(\"/home/local/ASUAD/asing651/ResnetCifar10pytorchFI/DRDNA/b10c32/TAU1adv.pkl\", 'rb') as f:\n",
    "    TAU1adv = pickle.load(f)\n",
    "with open(\"/home/local/ASUAD/asing651/ResnetCifar10pytorchFI/DRDNA/b10c32/TAU2adv.pkl\", 'rb') as f:\n",
    "    TAU2adv = pickle.load(f)\n",
    "with open(\"/home/local/ASUAD/asing651/ResnetCifar10pytorchFI/DRDNA/b10c32/TAU3adv.pkl\", 'rb') as f:\n",
    "    TAU3adv = pickle.load(f)"
   ]
  },
  {
   "cell_type": "code",
   "execution_count": null,
   "metadata": {},
   "outputs": [],
   "source": [
    "with open(\"/home/local/ASUAD/asing651/ResnetCifar10pytorchFI/DRDNA/b10c32/TAU1ood.pkl\", 'rb') as f:\n",
    "    TAU1ood = pickle.load(f)\n",
    "with open(\"/home/local/ASUAD/asing651/ResnetCifar10pytorchFI/DRDNA/b10c32/TAU2ood.pkl\", 'rb') as f:\n",
    "    TAU2ood = pickle.load(f)\n",
    "with open(\"/home/local/ASUAD/asing651/ResnetCifar10pytorchFI/DRDNA/b10c32/TAU3ood.pkl\", 'rb') as f:\n",
    "    TAU3ood = pickle.load(f)    \n",
    "\n",
    "with open(\"/home/local/ASUAD/asing651/ResnetCifar10pytorchFI/DRDNA/b10c32/TAU3nosdc.pkl\", 'rb') as f:\n",
    "    TAU3nosdc = pickle.load(f)  \n",
    "with open(\"/home/local/ASUAD/asing651/ResnetCifar10pytorchFI/DRDNA/b10c32/TAU2nosdc.pkl\", 'rb') as f:\n",
    "    TAU2nosdc = pickle.load(f)\n",
    "with open(\"/home/local/ASUAD/asing651/ResnetCifar10pytorchFI/DRDNA/b10c32/TAU1nosdc.pkl\", 'rb') as f:\n",
    "    TAU1nosdc = pickle.load(f)"
   ]
  }
 ],
 "metadata": {
  "kernelspec": {
   "display_name": "DRDNA",
   "language": "python",
   "name": "python3"
  },
  "language_info": {
   "name": "python",
   "version": "3.8.19"
  }
 },
 "nbformat": 4,
 "nbformat_minor": 2
}
